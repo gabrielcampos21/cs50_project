{
 "cells": [
  {
   "cell_type": "code",
   "execution_count": 1,
   "id": "1f6f0e89",
   "metadata": {
    "_cell_guid": "b1076dfc-b9ad-4769-8c92-a6c4dae69d19",
    "_uuid": "8f2839f25d086af736a60e9eeb907d3b93b6e0e5",
    "execution": {
     "iopub.execute_input": "2023-11-07T14:20:31.235562Z",
     "iopub.status.busy": "2023-11-07T14:20:31.235166Z",
     "iopub.status.idle": "2023-11-07T14:20:31.259245Z",
     "shell.execute_reply": "2023-11-07T14:20:31.257999Z"
    },
    "papermill": {
     "duration": 0.035394,
     "end_time": "2023-11-07T14:20:31.262316",
     "exception": false,
     "start_time": "2023-11-07T14:20:31.226922",
     "status": "completed"
    },
    "tags": []
   },
   "outputs": [],
   "source": [
    "import numpy as np\n",
    "import pandas as pd\n",
    "import kaggle\n",
    "import os\n",
    "\n",
    "if (not os.path.isdir(\"pickle_files\")):\n",
    "    os.makedirs(\"pickle_files\")\n",
    "\n",
    "if (not os.path.isdir(\"data\")):\n",
    "    os.makedirs(\"data\")\n",
    "\n",
    "kaggle.api.authenticate()\n",
    "\n",
    "# Dataset link: https://www.kaggle.com/datasets/fronkongames/steam-games-dataset/\n",
    "kaggle.api.dataset_download_files(\n",
    "    'fronkongames/steam-games-dataset', path='data', unzip=True)\n",
    "\n",
    "# Removing unnecessary files\n",
    "os.remove('data/games.json')"
   ]
  },
  {
   "cell_type": "code",
   "execution_count": 2,
   "id": "f8a18760",
   "metadata": {
    "execution": {
     "iopub.execute_input": "2023-11-07T14:20:31.289221Z",
     "iopub.status.busy": "2023-11-07T14:20:31.288818Z",
     "iopub.status.idle": "2023-11-07T14:20:38.443582Z",
     "shell.execute_reply": "2023-11-07T14:20:38.442294Z"
    },
    "papermill": {
     "duration": 7.165145,
     "end_time": "2023-11-07T14:20:38.446493",
     "exception": false,
     "start_time": "2023-11-07T14:20:31.281348",
     "status": "completed"
    },
    "tags": []
   },
   "outputs": [
    {
     "data": {
      "text/plain": [
       "Index(['AppID', 'Name', 'Release date', 'Estimated owners', 'Peak CCU',\n",
       "       'Required age', 'Price', 'DLC count', 'About the game',\n",
       "       'Supported languages', 'Full audio languages', 'Reviews',\n",
       "       'Header image', 'Website', 'Support url', 'Support email', 'Windows',\n",
       "       'Mac', 'Linux', 'Metacritic score', 'Metacritic url', 'User score',\n",
       "       'Positive', 'Negative', 'Score rank', 'Achievements', 'Recommendations',\n",
       "       'Notes', 'Average playtime forever', 'Average playtime two weeks',\n",
       "       'Median playtime forever', 'Median playtime two weeks', 'Developers',\n",
       "       'Publishers', 'Categories', 'Genres', 'Tags', 'Screenshots', 'Movies'],\n",
       "      dtype='object')"
      ]
     },
     "execution_count": 2,
     "metadata": {},
     "output_type": "execute_result"
    }
   ],
   "source": [
    "# Reading the dataset\n",
    "df = pd.read_csv('data/games.csv')\n",
    "\n",
    "# List columns present in this dataset\n",
    "df.columns"
   ]
  },
  {
   "cell_type": "code",
   "execution_count": 3,
   "id": "f67449c8",
   "metadata": {
    "execution": {
     "iopub.execute_input": "2023-11-07T14:20:38.487292Z",
     "iopub.status.busy": "2023-11-07T14:20:38.486344Z",
     "iopub.status.idle": "2023-11-07T14:20:38.816973Z",
     "shell.execute_reply": "2023-11-07T14:20:38.816036Z"
    },
    "papermill": {
     "duration": 0.341031,
     "end_time": "2023-11-07T14:20:38.819585",
     "exception": false,
     "start_time": "2023-11-07T14:20:38.478554",
     "status": "completed"
    },
    "tags": []
   },
   "outputs": [],
   "source": [
    "# Adding a 'PositiveRate' column\n",
    "df['PositiveRate'] = df['Positive'] / (df['Positive'] + df['Negative'])\n",
    "\n",
    "# Dropping null values and games which don't support English language\n",
    "df = df.drop(df[df['About the game'].isna()].index)\n",
    "df = df.drop(df[df['Categories'].isna()].index)\n",
    "df = df.drop(df[df['Genres'].isna()].index)\n",
    "df = df.drop(df[df['Tags'].isna()].index)\n",
    "df = df.drop(df[~df['Supported languages'].str.contains('English')].index)"
   ]
  },
  {
   "cell_type": "code",
   "execution_count": 4,
   "id": "5f8ccd7e",
   "metadata": {
    "execution": {
     "iopub.execute_input": "2023-11-07T14:20:38.834512Z",
     "iopub.status.busy": "2023-11-07T14:20:38.834078Z",
     "iopub.status.idle": "2023-11-07T14:20:38.882738Z",
     "shell.execute_reply": "2023-11-07T14:20:38.881533Z"
    },
    "papermill": {
     "duration": 0.059393,
     "end_time": "2023-11-07T14:20:38.885435",
     "exception": false,
     "start_time": "2023-11-07T14:20:38.826042",
     "status": "completed"
    },
    "tags": []
   },
   "outputs": [],
   "source": [
    "# Limiting the 'About the game' text to 1800 characters (so it won't use too much ram)\n",
    "# This is optional\n",
    "# df['About the game'] = df['About the game'].apply(lambda x: x[:1800] if len(x) > 1800 else x)\n",
    "\n",
    "# Keeping only the year in the 'Release date' label\n",
    "df['Release date'] = df['Release date'].str[-4:]"
   ]
  },
  {
   "cell_type": "code",
   "execution_count": 5,
   "id": "65fec708",
   "metadata": {
    "execution": {
     "iopub.execute_input": "2023-11-07T14:20:38.901897Z",
     "iopub.status.busy": "2023-11-07T14:20:38.900977Z",
     "iopub.status.idle": "2023-11-07T14:20:39.477148Z",
     "shell.execute_reply": "2023-11-07T14:20:39.475840Z"
    },
    "papermill": {
     "duration": 0.586616,
     "end_time": "2023-11-07T14:20:39.479913",
     "exception": false,
     "start_time": "2023-11-07T14:20:38.893297",
     "status": "completed"
    },
    "tags": []
   },
   "outputs": [],
   "source": [
    "# Dropping labels that won't be used\n",
    "labels_to_drop = ['Reviews', 'Peak CCU',\n",
    "       'Required age', 'DLC count',\n",
    "       'Full audio languages',\n",
    "       'Header image', 'Website', 'Support url', 'Support email', 'Windows',\n",
    "       'Mac', 'Linux', 'Metacritic score', 'Metacritic url', 'User score',\n",
    "       'Score rank', 'Achievements', 'Recommendations',\n",
    "       'Notes', 'Average playtime forever', 'Average playtime two weeks',\n",
    "       'Median playtime forever', 'Median playtime two weeks', 'Developers',\n",
    "       'Publishers', 'Screenshots', 'Movies']\n",
    "\n",
    "for label in labels_to_drop:\n",
    "  df.drop(label, axis=1, inplace=True)"
   ]
  },
  {
   "cell_type": "code",
   "execution_count": 6,
   "id": "d0625ee5",
   "metadata": {
    "execution": {
     "iopub.execute_input": "2023-11-07T14:20:39.494399Z",
     "iopub.status.busy": "2023-11-07T14:20:39.493999Z",
     "iopub.status.idle": "2023-11-07T14:20:39.501488Z",
     "shell.execute_reply": "2023-11-07T14:20:39.500145Z"
    },
    "papermill": {
     "duration": 0.017718,
     "end_time": "2023-11-07T14:20:39.504073",
     "exception": false,
     "start_time": "2023-11-07T14:20:39.486355",
     "status": "completed"
    },
    "tags": []
   },
   "outputs": [
    {
     "data": {
      "text/plain": [
       "Index(['AppID', 'Name', 'Release date', 'Estimated owners', 'Price',\n",
       "       'About the game', 'Supported languages', 'Positive', 'Negative',\n",
       "       'Categories', 'Genres', 'Tags', 'PositiveRate'],\n",
       "      dtype='object')"
      ]
     },
     "execution_count": 6,
     "metadata": {},
     "output_type": "execute_result"
    }
   ],
   "source": [
    "df.columns"
   ]
  },
  {
   "cell_type": "code",
   "execution_count": 7,
   "id": "9afce740",
   "metadata": {
    "execution": {
     "iopub.execute_input": "2023-11-07T14:20:39.519274Z",
     "iopub.status.busy": "2023-11-07T14:20:39.518852Z",
     "iopub.status.idle": "2023-11-07T14:20:39.588443Z",
     "shell.execute_reply": "2023-11-07T14:20:39.587243Z"
    },
    "papermill": {
     "duration": 0.080699,
     "end_time": "2023-11-07T14:20:39.591426",
     "exception": false,
     "start_time": "2023-11-07T14:20:39.510727",
     "status": "completed"
    },
    "tags": []
   },
   "outputs": [],
   "source": [
    "# Filtering non coop games\n",
    "df = df[df['Categories'].str.contains('Co-op')]\n",
    "df = df.reset_index(drop=True)"
   ]
  },
  {
   "cell_type": "code",
   "execution_count": 8,
   "id": "80e055fb",
   "metadata": {
    "execution": {
     "iopub.execute_input": "2023-11-07T14:20:39.606747Z",
     "iopub.status.busy": "2023-11-07T14:20:39.606251Z",
     "iopub.status.idle": "2023-11-07T14:20:43.401426Z",
     "shell.execute_reply": "2023-11-07T14:20:43.399981Z"
    },
    "papermill": {
     "duration": 3.806222,
     "end_time": "2023-11-07T14:20:43.404258",
     "exception": false,
     "start_time": "2023-11-07T14:20:39.598036",
     "status": "completed"
    },
    "tags": []
   },
   "outputs": [],
   "source": [
    "# Import TfIdfVectorizer from scikit-learn\n",
    "# TF-IDF(Term Frequency Inverse Document Frequency): \n",
    "# It can be defined as the calculation of how relevant a word is to a text\n",
    "from sklearn.feature_extraction.text import TfidfVectorizer\n",
    "\n",
    "# Define a TF-IDF Vectorizer Object. Remove all english stop words such as 'the', 'a'\n",
    "tfidf = TfidfVectorizer(stop_words='english')\n",
    "\n",
    "# Fits the TF-IDF vectorizer on the 'About the game' column of the df DataFrame, \n",
    "# which means it learns the vocabulary of the corpus and calculates the term frequencies and inverse document frequencies for each term.\n",
    "tfidf_matrix = tfidf.fit_transform(df['About the game'])"
   ]
  },
  {
   "cell_type": "code",
   "execution_count": 9,
   "id": "9c725d1e",
   "metadata": {
    "execution": {
     "iopub.execute_input": "2023-11-07T14:20:43.419436Z",
     "iopub.status.busy": "2023-11-07T14:20:43.419054Z",
     "iopub.status.idle": "2023-11-07T14:20:46.520495Z",
     "shell.execute_reply": "2023-11-07T14:20:46.519122Z"
    },
    "papermill": {
     "duration": 3.112581,
     "end_time": "2023-11-07T14:20:46.523564",
     "exception": false,
     "start_time": "2023-11-07T14:20:43.410983",
     "status": "completed"
    },
    "tags": []
   },
   "outputs": [],
   "source": [
    "# Import linear_kernel from scikit-learn\n",
    "from sklearn.metrics.pairwise import linear_kernel\n",
    "\n",
    "# Compute the cosine similarity matrix: a square matrix where each element represents the cosine similarity between two documents. \n",
    "# It's a measure of how similar they are, with a higher cosine similarity indicating greater similarity.\n",
    "cosine_sim = linear_kernel(tfidf_matrix, tfidf_matrix)"
   ]
  },
  {
   "cell_type": "code",
   "execution_count": 10,
   "id": "7d2f085a",
   "metadata": {
    "execution": {
     "iopub.execute_input": "2023-11-07T14:20:46.538952Z",
     "iopub.status.busy": "2023-11-07T14:20:46.538560Z",
     "iopub.status.idle": "2023-11-07T14:20:46.546790Z",
     "shell.execute_reply": "2023-11-07T14:20:46.545605Z"
    },
    "papermill": {
     "duration": 0.01932,
     "end_time": "2023-11-07T14:20:46.549545",
     "exception": false,
     "start_time": "2023-11-07T14:20:46.530225",
     "status": "completed"
    },
    "tags": []
   },
   "outputs": [],
   "source": [
    "# Construct map of indices and game titles\n",
    "indices = pd.Series(df.index, index=df['Name']).drop_duplicates()"
   ]
  },
  {
   "cell_type": "markdown",
   "id": "42978062",
   "metadata": {
    "papermill": {
     "duration": 0.006565,
     "end_time": "2023-11-07T14:20:46.563054",
     "exception": false,
     "start_time": "2023-11-07T14:20:46.556489",
     "status": "completed"
    },
    "tags": []
   },
   "source": [
    "# Saving data to files"
   ]
  },
  {
   "cell_type": "code",
   "execution_count": 11,
   "id": "e5a5f5af",
   "metadata": {
    "execution": {
     "iopub.execute_input": "2023-11-07T14:20:46.578657Z",
     "iopub.status.busy": "2023-11-07T14:20:46.577832Z",
     "iopub.status.idle": "2023-11-07T14:20:47.163194Z",
     "shell.execute_reply": "2023-11-07T14:20:47.162340Z"
    },
    "papermill": {
     "duration": 0.59622,
     "end_time": "2023-11-07T14:20:47.165900",
     "exception": false,
     "start_time": "2023-11-07T14:20:46.569680",
     "status": "completed"
    },
    "tags": []
   },
   "outputs": [],
   "source": [
    "import pickle\n",
    "\n",
    "# Saving data to files is useful so that you don't need to download the dataset or update it when you don't want or need\n",
    "\n",
    "# Define the filename for the pickle file\n",
    "PICKLE_FILENAME = 'pickle_files/cosine_similarity_matrix.pkl'\n",
    "\n",
    "# Save the cosine_sim matrix to a pickle file\n",
    "with open(PICKLE_FILENAME, 'wb') as pickle_file:\n",
    "    pickle.dump(cosine_sim, pickle_file)\n",
    "\n",
    "    \n",
    "\n",
    "PICKLE_FILENAME = 'pickle_files/df.pkl'\n",
    "\n",
    "with open(PICKLE_FILENAME, 'wb') as pickle_file:\n",
    "    pickle.dump(df, pickle_file)\n",
    "    \n",
    "'''\n",
    "To load, it's possible to do this:\n",
    "\n",
    "# Load the cosine_sim matrix from the pickle file\n",
    "with open(pickle_filename, 'rb') as pickle_file:\n",
    "    df_loaded = pickle.load(pickle_file)\n",
    "'''\n",
    "\n",
    "PICKLE_FILENAME = 'pickle_files/indices.pkl'\n",
    "\n",
    "with open(PICKLE_FILENAME, 'wb') as pickle_file:\n",
    "    pickle.dump(indices, pickle_file)\n"
   ]
  },
  {
   "cell_type": "code",
   "execution_count": 12,
   "id": "ae28b959",
   "metadata": {
    "execution": {
     "iopub.execute_input": "2023-11-07T14:20:47.181223Z",
     "iopub.status.busy": "2023-11-07T14:20:47.180583Z",
     "iopub.status.idle": "2023-11-07T14:20:47.197684Z",
     "shell.execute_reply": "2023-11-07T14:20:47.196375Z"
    },
    "papermill": {
     "duration": 0.02775,
     "end_time": "2023-11-07T14:20:47.200198",
     "exception": false,
     "start_time": "2023-11-07T14:20:47.172448",
     "status": "completed"
    },
    "tags": []
   },
   "outputs": [
    {
     "data": {
      "text/plain": [
       "Name\n",
       "Playcraft                                      238\n",
       "FortressCraft : Chapter 1                      245\n",
       "Exocraft                                       290\n",
       "Kingspray Graffiti VR                          805\n",
       "Crafty                                        1015\n",
       "FortressCraft Evolved!                        1237\n",
       "Guncraft                                      1288\n",
       "Tesla vs Lovecraft                            1578\n",
       "Lumencraft                                    1947\n",
       "ConflictCraft                                 1973\n",
       "Minecraft Dungeons                            2208\n",
       "Dungeoncraft                                  2473\n",
       "Craftopia                                     2943\n",
       "OceanCraft                                    3012\n",
       "Robocraft                                     3353\n",
       "Solace Crafting                               3406\n",
       "Milkcraft                                     3559\n",
       "Witchcraft                                    3711\n",
       "RogueCraft Squadron                           3858\n",
       "World of Aircraft: Glider Simulator           3951\n",
       "Craft The World                               4303\n",
       "Spherecraft                                   4416\n",
       "Aircraft War                                  4508\n",
       "Tactical Craft Online                         4551\n",
       "Terraforming Earth                            4664\n",
       "ConflictCraft 2 - Game of the Year Edition    4709\n",
       "TurretCraft                                   4725\n",
       "Minecraft Legends                             5760\n",
       "My First Craft Survival                       5921\n",
       "Steamcraft                                    6054\n",
       "dtype: int64"
      ]
     },
     "execution_count": 12,
     "metadata": {},
     "output_type": "execute_result"
    }
   ],
   "source": [
    "# Example on how to implement searching\n",
    "indices[indices.index.str.find(\"raf\") != -1]"
   ]
  },
  {
   "cell_type": "code",
   "execution_count": 13,
   "id": "31b51275",
   "metadata": {
    "execution": {
     "iopub.execute_input": "2023-11-07T14:20:47.215081Z",
     "iopub.status.busy": "2023-11-07T14:20:47.214680Z",
     "iopub.status.idle": "2023-11-07T14:20:47.223193Z",
     "shell.execute_reply": "2023-11-07T14:20:47.221939Z"
    },
    "papermill": {
     "duration": 0.019015,
     "end_time": "2023-11-07T14:20:47.225828",
     "exception": false,
     "start_time": "2023-11-07T14:20:47.206813",
     "status": "completed"
    },
    "tags": []
   },
   "outputs": [],
   "source": [
    "# Example of function that takes in game title as input and outputs the 10 most similar games\n",
    "def get_recommendations(name, cosine_sim=cosine_sim):\n",
    "    \n",
    "    if name not in indices:\n",
    "      return None\n",
    "\n",
    "    # Get the index of the game that matches the title\n",
    "    idx = indices[name]\n",
    "\n",
    "    if type(idx) == pd.core.series.Series: \n",
    "        idx = idx[0]\n",
    "\n",
    "    # Get the pairwise similarity scores of all games with the inputed game\n",
    "    sim_scores = list(enumerate(cosine_sim[idx]))\n",
    "\n",
    "    # Sort the games based on the similarity scores\n",
    "    sim_scores = sorted(sim_scores, key=lambda x: x[1], reverse=True)\n",
    "\n",
    "    # Get the scores of the 10 most similar games\n",
    "    sim_scores = sim_scores[1:11]\n",
    "\n",
    "    # Get the game indices\n",
    "    game_indices = [i[0] for i in sim_scores]\n",
    "\n",
    "    # Return the top 10 most similar games\n",
    "    return df.iloc[game_indices]"
   ]
  },
  {
   "cell_type": "code",
   "execution_count": 14,
   "id": "d60d1728",
   "metadata": {
    "execution": {
     "iopub.execute_input": "2023-11-07T14:20:47.240984Z",
     "iopub.status.busy": "2023-11-07T14:20:47.240553Z",
     "iopub.status.idle": "2023-11-07T14:20:47.289634Z",
     "shell.execute_reply": "2023-11-07T14:20:47.288455Z"
    },
    "papermill": {
     "duration": 0.059608,
     "end_time": "2023-11-07T14:20:47.292213",
     "exception": false,
     "start_time": "2023-11-07T14:20:47.232605",
     "status": "completed"
    },
    "tags": []
   },
   "outputs": [
    {
     "data": {
      "text/html": [
       "<div>\n",
       "<style scoped>\n",
       "    .dataframe tbody tr th:only-of-type {\n",
       "        vertical-align: middle;\n",
       "    }\n",
       "\n",
       "    .dataframe tbody tr th {\n",
       "        vertical-align: top;\n",
       "    }\n",
       "\n",
       "    .dataframe thead th {\n",
       "        text-align: right;\n",
       "    }\n",
       "</style>\n",
       "<table border=\"1\" class=\"dataframe\">\n",
       "  <thead>\n",
       "    <tr style=\"text-align: right;\">\n",
       "      <th></th>\n",
       "      <th>AppID</th>\n",
       "      <th>Name</th>\n",
       "      <th>Release date</th>\n",
       "      <th>Estimated owners</th>\n",
       "      <th>Price</th>\n",
       "      <th>About the game</th>\n",
       "      <th>Supported languages</th>\n",
       "      <th>Positive</th>\n",
       "      <th>Negative</th>\n",
       "      <th>Categories</th>\n",
       "      <th>Genres</th>\n",
       "      <th>Tags</th>\n",
       "      <th>PositiveRate</th>\n",
       "    </tr>\n",
       "  </thead>\n",
       "  <tbody>\n",
       "    <tr>\n",
       "      <th>3045</th>\n",
       "      <td>1889640</td>\n",
       "      <td>The Backrooms: Survival</td>\n",
       "      <td>2022</td>\n",
       "      <td>0 - 20000</td>\n",
       "      <td>6.99</td>\n",
       "      <td>Inspired by the popular internet 'creepypasta'...</td>\n",
       "      <td>['English']</td>\n",
       "      <td>446</td>\n",
       "      <td>65</td>\n",
       "      <td>Single-player,Multi-player,PvP,Online PvP,Co-o...</td>\n",
       "      <td>Action,Adventure,Indie,Massively Multiplayer,S...</td>\n",
       "      <td>Early Access,Horror,Multiplayer,Survival Horro...</td>\n",
       "      <td>0.872798</td>\n",
       "    </tr>\n",
       "    <tr>\n",
       "      <th>2609</th>\n",
       "      <td>2006440</td>\n",
       "      <td>Secret Backrooms</td>\n",
       "      <td>2022</td>\n",
       "      <td>0 - 20000</td>\n",
       "      <td>2.99</td>\n",
       "      <td>Secret Backrooms A Different Approach To The B...</td>\n",
       "      <td>['English']</td>\n",
       "      <td>6</td>\n",
       "      <td>1</td>\n",
       "      <td>Single-player,Multi-player,Co-op,LAN Co-op</td>\n",
       "      <td>Action,Indie</td>\n",
       "      <td>Action,3D,Cinematic,First-Person,Dark,Horror,C...</td>\n",
       "      <td>0.857143</td>\n",
       "    </tr>\n",
       "    <tr>\n",
       "      <th>5653</th>\n",
       "      <td>2264460</td>\n",
       "      <td>UnderBackrooms</td>\n",
       "      <td>2023</td>\n",
       "      <td>0 - 20000</td>\n",
       "      <td>3.99</td>\n",
       "      <td>UnderBackrooms is an independent horror game t...</td>\n",
       "      <td>['English']</td>\n",
       "      <td>9</td>\n",
       "      <td>11</td>\n",
       "      <td>Single-player,Multi-player,Co-op,Online Co-op</td>\n",
       "      <td>Adventure,Indie,Early Access</td>\n",
       "      <td>Adventure,Indie,Early Access,Gore,Violent,Mult...</td>\n",
       "      <td>0.450000</td>\n",
       "    </tr>\n",
       "    <tr>\n",
       "      <th>5722</th>\n",
       "      <td>2283870</td>\n",
       "      <td>The Backrooms Experiment</td>\n",
       "      <td>2023</td>\n",
       "      <td>0 - 20000</td>\n",
       "      <td>7.99</td>\n",
       "      <td>The Backrooms Experiment The Backrooms Experie...</td>\n",
       "      <td>['English']</td>\n",
       "      <td>4</td>\n",
       "      <td>2</td>\n",
       "      <td>Single-player,Multi-player,Co-op,Online Co-op,...</td>\n",
       "      <td>Adventure,Indie,Early Access</td>\n",
       "      <td>Adventure,Walking Simulator,3D,First-Person,Re...</td>\n",
       "      <td>0.666667</td>\n",
       "    </tr>\n",
       "    <tr>\n",
       "      <th>5538</th>\n",
       "      <td>1879030</td>\n",
       "      <td>Return the Backrooms</td>\n",
       "      <td>2022</td>\n",
       "      <td>0 - 20000</td>\n",
       "      <td>3.74</td>\n",
       "      <td>Return the Backrooms is a co-op horror game wi...</td>\n",
       "      <td>['English', 'French', 'Italian', 'German', 'Sp...</td>\n",
       "      <td>13</td>\n",
       "      <td>0</td>\n",
       "      <td>Single-player,Multi-player,Co-op,Online Co-op</td>\n",
       "      <td>Indie,Early Access</td>\n",
       "      <td>Adventure,FPS,3D,First-Person,Psychedelic,Horr...</td>\n",
       "      <td>1.000000</td>\n",
       "    </tr>\n",
       "    <tr>\n",
       "      <th>5369</th>\n",
       "      <td>1943950</td>\n",
       "      <td>Escape the Backrooms</td>\n",
       "      <td>2022</td>\n",
       "      <td>20000 - 50000</td>\n",
       "      <td>8.99</td>\n",
       "      <td>Explore the seemingly infinite expanse of eeri...</td>\n",
       "      <td>['English']</td>\n",
       "      <td>625</td>\n",
       "      <td>223</td>\n",
       "      <td>Single-player,Multi-player,Co-op,Online Co-op,...</td>\n",
       "      <td>Indie,Early Access</td>\n",
       "      <td>Horror,Multiplayer,Adventure,Action,First-Pers...</td>\n",
       "      <td>0.737028</td>\n",
       "    </tr>\n",
       "    <tr>\n",
       "      <th>5487</th>\n",
       "      <td>2141730</td>\n",
       "      <td>Backrooms: Escape Together</td>\n",
       "      <td>2022</td>\n",
       "      <td>0 - 20000</td>\n",
       "      <td>3.99</td>\n",
       "      <td>As a team of researchers, you are sent into th...</td>\n",
       "      <td>['English']</td>\n",
       "      <td>109</td>\n",
       "      <td>18</td>\n",
       "      <td>Single-player,Multi-player,Co-op,Online Co-op</td>\n",
       "      <td>Action,Adventure,Casual,Indie,Simulation,Early...</td>\n",
       "      <td>Mystery,Psychological Horror,Survival Horror,M...</td>\n",
       "      <td>0.858268</td>\n",
       "    </tr>\n",
       "    <tr>\n",
       "      <th>2865</th>\n",
       "      <td>1985930</td>\n",
       "      <td>The Backrooms 1998 - Found Footage Survival Ho...</td>\n",
       "      <td>2022</td>\n",
       "      <td>20000 - 50000</td>\n",
       "      <td>9.99</td>\n",
       "      <td>TRIGGER WARNING: This game may be disturbing t...</td>\n",
       "      <td>['English']</td>\n",
       "      <td>303</td>\n",
       "      <td>50</td>\n",
       "      <td>Single-player,Multi-player,Co-op</td>\n",
       "      <td>Action,Adventure,Indie,Simulation,Early Access</td>\n",
       "      <td>Psychological Horror,Early Access,Survival Hor...</td>\n",
       "      <td>0.858357</td>\n",
       "    </tr>\n",
       "    <tr>\n",
       "      <th>5848</th>\n",
       "      <td>2430410</td>\n",
       "      <td>Myth</td>\n",
       "      <td>2023</td>\n",
       "      <td>0 - 20000</td>\n",
       "      <td>5.59</td>\n",
       "      <td>DESCRIPTION If you enjoy games centered around...</td>\n",
       "      <td>['English', 'Thai']</td>\n",
       "      <td>9</td>\n",
       "      <td>0</td>\n",
       "      <td>Single-player,Multi-player,Co-op,Online Co-op,...</td>\n",
       "      <td>Action,Adventure</td>\n",
       "      <td>Action,Adventure,Puzzle,Exploration,3D,First-P...</td>\n",
       "      <td>1.000000</td>\n",
       "    </tr>\n",
       "    <tr>\n",
       "      <th>5648</th>\n",
       "      <td>2251870</td>\n",
       "      <td>The Backrooms - Nightmare Dimension</td>\n",
       "      <td>2023</td>\n",
       "      <td>0 - 20000</td>\n",
       "      <td>6.99</td>\n",
       "      <td>After long research, the scientists from SCP F...</td>\n",
       "      <td>['English']</td>\n",
       "      <td>0</td>\n",
       "      <td>3</td>\n",
       "      <td>Single-player,Multi-player,Co-op,Online Co-op</td>\n",
       "      <td>Action,Indie</td>\n",
       "      <td>Horror,Online Co-Op,Multiplayer,Psychological ...</td>\n",
       "      <td>0.000000</td>\n",
       "    </tr>\n",
       "  </tbody>\n",
       "</table>\n",
       "</div>"
      ],
      "text/plain": [
       "        AppID                                               Name Release date  \\\n",
       "3045  1889640                            The Backrooms: Survival         2022   \n",
       "2609  2006440                                   Secret Backrooms         2022   \n",
       "5653  2264460                                     UnderBackrooms         2023   \n",
       "5722  2283870                           The Backrooms Experiment         2023   \n",
       "5538  1879030                               Return the Backrooms         2022   \n",
       "5369  1943950                               Escape the Backrooms         2022   \n",
       "5487  2141730                         Backrooms: Escape Together         2022   \n",
       "2865  1985930  The Backrooms 1998 - Found Footage Survival Ho...         2022   \n",
       "5848  2430410                                               Myth         2023   \n",
       "5648  2251870                The Backrooms - Nightmare Dimension         2023   \n",
       "\n",
       "     Estimated owners  Price  \\\n",
       "3045        0 - 20000   6.99   \n",
       "2609        0 - 20000   2.99   \n",
       "5653        0 - 20000   3.99   \n",
       "5722        0 - 20000   7.99   \n",
       "5538        0 - 20000   3.74   \n",
       "5369    20000 - 50000   8.99   \n",
       "5487        0 - 20000   3.99   \n",
       "2865    20000 - 50000   9.99   \n",
       "5848        0 - 20000   5.59   \n",
       "5648        0 - 20000   6.99   \n",
       "\n",
       "                                         About the game  \\\n",
       "3045  Inspired by the popular internet 'creepypasta'...   \n",
       "2609  Secret Backrooms A Different Approach To The B...   \n",
       "5653  UnderBackrooms is an independent horror game t...   \n",
       "5722  The Backrooms Experiment The Backrooms Experie...   \n",
       "5538  Return the Backrooms is a co-op horror game wi...   \n",
       "5369  Explore the seemingly infinite expanse of eeri...   \n",
       "5487  As a team of researchers, you are sent into th...   \n",
       "2865  TRIGGER WARNING: This game may be disturbing t...   \n",
       "5848  DESCRIPTION If you enjoy games centered around...   \n",
       "5648  After long research, the scientists from SCP F...   \n",
       "\n",
       "                                    Supported languages  Positive  Negative  \\\n",
       "3045                                        ['English']       446        65   \n",
       "2609                                        ['English']         6         1   \n",
       "5653                                        ['English']         9        11   \n",
       "5722                                        ['English']         4         2   \n",
       "5538  ['English', 'French', 'Italian', 'German', 'Sp...        13         0   \n",
       "5369                                        ['English']       625       223   \n",
       "5487                                        ['English']       109        18   \n",
       "2865                                        ['English']       303        50   \n",
       "5848                                ['English', 'Thai']         9         0   \n",
       "5648                                        ['English']         0         3   \n",
       "\n",
       "                                             Categories  \\\n",
       "3045  Single-player,Multi-player,PvP,Online PvP,Co-o...   \n",
       "2609         Single-player,Multi-player,Co-op,LAN Co-op   \n",
       "5653      Single-player,Multi-player,Co-op,Online Co-op   \n",
       "5722  Single-player,Multi-player,Co-op,Online Co-op,...   \n",
       "5538      Single-player,Multi-player,Co-op,Online Co-op   \n",
       "5369  Single-player,Multi-player,Co-op,Online Co-op,...   \n",
       "5487      Single-player,Multi-player,Co-op,Online Co-op   \n",
       "2865                   Single-player,Multi-player,Co-op   \n",
       "5848  Single-player,Multi-player,Co-op,Online Co-op,...   \n",
       "5648      Single-player,Multi-player,Co-op,Online Co-op   \n",
       "\n",
       "                                                 Genres  \\\n",
       "3045  Action,Adventure,Indie,Massively Multiplayer,S...   \n",
       "2609                                       Action,Indie   \n",
       "5653                       Adventure,Indie,Early Access   \n",
       "5722                       Adventure,Indie,Early Access   \n",
       "5538                                 Indie,Early Access   \n",
       "5369                                 Indie,Early Access   \n",
       "5487  Action,Adventure,Casual,Indie,Simulation,Early...   \n",
       "2865     Action,Adventure,Indie,Simulation,Early Access   \n",
       "5848                                   Action,Adventure   \n",
       "5648                                       Action,Indie   \n",
       "\n",
       "                                                   Tags  PositiveRate  \n",
       "3045  Early Access,Horror,Multiplayer,Survival Horro...      0.872798  \n",
       "2609  Action,3D,Cinematic,First-Person,Dark,Horror,C...      0.857143  \n",
       "5653  Adventure,Indie,Early Access,Gore,Violent,Mult...      0.450000  \n",
       "5722  Adventure,Walking Simulator,3D,First-Person,Re...      0.666667  \n",
       "5538  Adventure,FPS,3D,First-Person,Psychedelic,Horr...      1.000000  \n",
       "5369  Horror,Multiplayer,Adventure,Action,First-Pers...      0.737028  \n",
       "5487  Mystery,Psychological Horror,Survival Horror,M...      0.858268  \n",
       "2865  Psychological Horror,Early Access,Survival Hor...      0.858357  \n",
       "5848  Action,Adventure,Puzzle,Exploration,3D,First-P...      1.000000  \n",
       "5648  Horror,Online Co-Op,Multiplayer,Psychological ...      0.000000  "
      ]
     },
     "execution_count": 14,
     "metadata": {},
     "output_type": "execute_result"
    }
   ],
   "source": [
    "get_recommendations(\"Inside the Backrooms\")"
   ]
  }
 ],
 "metadata": {
  "kernelspec": {
   "display_name": "Python 3",
   "language": "python",
   "name": "python3"
  },
  "language_info": {
   "codemirror_mode": {
    "name": "ipython",
    "version": 3
   },
   "file_extension": ".py",
   "mimetype": "text/x-python",
   "name": "python",
   "nbconvert_exporter": "python",
   "pygments_lexer": "ipython3",
   "version": "3.11.4"
  },
  "papermill": {
   "default_parameters": {},
   "duration": 32.022128,
   "end_time": "2023-11-07T14:20:48.322587",
   "environment_variables": {},
   "exception": null,
   "input_path": "__notebook__.ipynb",
   "output_path": "__notebook__.ipynb",
   "parameters": {},
   "start_time": "2023-11-07T14:20:16.300459",
   "version": "2.4.0"
  }
 },
 "nbformat": 4,
 "nbformat_minor": 5
}
